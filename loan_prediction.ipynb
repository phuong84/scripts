{
  "nbformat": 4,
  "nbformat_minor": 0,
  "metadata": {
    "colab": {
      "name": "loan_prediction.ipynb",
      "version": "0.3.2",
      "provenance": [],
      "collapsed_sections": [],
      "toc_visible": true
    },
    "kernelspec": {
      "name": "python3",
      "display_name": "Python 3"
    }
  },
  "cells": [
    {
      "cell_type": "markdown",
      "metadata": {
        "id": "nWxDY5iwakvB",
        "colab_type": "text"
      },
      "source": [
        "# **Predicting Loan Pay-Off Rate**\n"
      ]
    },
    {
      "cell_type": "markdown",
      "metadata": {
        "id": "WdVNiRxJt7ma",
        "colab_type": "text"
      },
      "source": [
        "# 1. Introduction\n",
        "\n",
        "In this project, we will analyse a loan dataset obtained from the Lending Club. We use the 2007 to 2011 dataset (LoanStats3a.csv) for the analysis. The goal of this project is to build a logistic regression model predicting the pay-off rate of borrowers.\n",
        "\n",
        "The dataset can be downloaded [here](https://www.lendingclub.com/info/download-data.action)."
      ]
    },
    {
      "cell_type": "markdown",
      "metadata": {
        "id": "Y9e58RMxxFMQ",
        "colab_type": "text"
      },
      "source": [
        "# 2. Data Preparation"
      ]
    },
    {
      "cell_type": "code",
      "metadata": {
        "id": "KaZ58UZMat0T",
        "colab_type": "code",
        "outputId": "55898bf3-e28a-47fa-89bf-61bec0881372",
        "colab": {
          "base_uri": "https://localhost:8080/",
          "height": 35
        }
      },
      "source": [
        "import numpy as np\n",
        "import pandas as pd\n",
        "import matplotlib.pyplot as plt\n",
        "import seaborn as sns\n",
        "from pandas.plotting import scatter_matrix\n",
        "\n",
        "loan = pd.read_csv('LoanStats3a.csv', low_memory = False, skiprows = 1)\n",
        "print(\"The loan dataset has {} samples with {} features.\".format(*loan.shape))"
      ],
      "execution_count": 1,
      "outputs": [
        {
          "output_type": "stream",
          "text": [
            "The loan dataset has 42535 samples with 144 features.\n"
          ],
          "name": "stdout"
        }
      ]
    },
    {
      "cell_type": "code",
      "metadata": {
        "id": "Ya8GeketkL9N",
        "colab_type": "code",
        "colab": {}
      },
      "source": [
        "loan = loan[[\"loan_amnt\",\"term\",\"int_rate\",\"installment\",\"grade\",\"sub_grade\",\"emp_length\",\"home_ownership\",\"annual_inc\",\"verification_status\",\"loan_status\",\"total_acc\",\"dti\"]]"
      ],
      "execution_count": 0,
      "outputs": []
    },
    {
      "cell_type": "code",
      "metadata": {
        "id": "Ri6Hhy94n-Pk",
        "colab_type": "code",
        "outputId": "7263b011-3dfb-4d67-eb7c-b14667727d2c",
        "colab": {
          "base_uri": "https://localhost:8080/",
          "height": 313
        }
      },
      "source": [
        "loan.head()"
      ],
      "execution_count": 3,
      "outputs": [
        {
          "output_type": "execute_result",
          "data": {
            "text/html": [
              "<div>\n",
              "<style scoped>\n",
              "    .dataframe tbody tr th:only-of-type {\n",
              "        vertical-align: middle;\n",
              "    }\n",
              "\n",
              "    .dataframe tbody tr th {\n",
              "        vertical-align: top;\n",
              "    }\n",
              "\n",
              "    .dataframe thead th {\n",
              "        text-align: right;\n",
              "    }\n",
              "</style>\n",
              "<table border=\"1\" class=\"dataframe\">\n",
              "  <thead>\n",
              "    <tr style=\"text-align: right;\">\n",
              "      <th></th>\n",
              "      <th>loan_amnt</th>\n",
              "      <th>term</th>\n",
              "      <th>int_rate</th>\n",
              "      <th>installment</th>\n",
              "      <th>grade</th>\n",
              "      <th>sub_grade</th>\n",
              "      <th>emp_length</th>\n",
              "      <th>home_ownership</th>\n",
              "      <th>annual_inc</th>\n",
              "      <th>verification_status</th>\n",
              "      <th>loan_status</th>\n",
              "      <th>total_acc</th>\n",
              "      <th>dti</th>\n",
              "    </tr>\n",
              "  </thead>\n",
              "  <tbody>\n",
              "    <tr>\n",
              "      <th>0</th>\n",
              "      <td>5000</td>\n",
              "      <td>36 months</td>\n",
              "      <td>10.65%</td>\n",
              "      <td>162.87</td>\n",
              "      <td>B</td>\n",
              "      <td>B2</td>\n",
              "      <td>10+ years</td>\n",
              "      <td>RENT</td>\n",
              "      <td>24000.0</td>\n",
              "      <td>Verified</td>\n",
              "      <td>Fully Paid</td>\n",
              "      <td>9.0</td>\n",
              "      <td>27.65</td>\n",
              "    </tr>\n",
              "    <tr>\n",
              "      <th>1</th>\n",
              "      <td>2500</td>\n",
              "      <td>60 months</td>\n",
              "      <td>15.27%</td>\n",
              "      <td>59.83</td>\n",
              "      <td>C</td>\n",
              "      <td>C4</td>\n",
              "      <td>&lt; 1 year</td>\n",
              "      <td>RENT</td>\n",
              "      <td>30000.0</td>\n",
              "      <td>Source Verified</td>\n",
              "      <td>Charged Off</td>\n",
              "      <td>4.0</td>\n",
              "      <td>1.00</td>\n",
              "    </tr>\n",
              "    <tr>\n",
              "      <th>2</th>\n",
              "      <td>2400</td>\n",
              "      <td>36 months</td>\n",
              "      <td>15.96%</td>\n",
              "      <td>84.33</td>\n",
              "      <td>C</td>\n",
              "      <td>C5</td>\n",
              "      <td>10+ years</td>\n",
              "      <td>RENT</td>\n",
              "      <td>12252.0</td>\n",
              "      <td>Not Verified</td>\n",
              "      <td>Fully Paid</td>\n",
              "      <td>10.0</td>\n",
              "      <td>8.72</td>\n",
              "    </tr>\n",
              "    <tr>\n",
              "      <th>3</th>\n",
              "      <td>10000</td>\n",
              "      <td>36 months</td>\n",
              "      <td>13.49%</td>\n",
              "      <td>339.31</td>\n",
              "      <td>C</td>\n",
              "      <td>C1</td>\n",
              "      <td>10+ years</td>\n",
              "      <td>RENT</td>\n",
              "      <td>49200.0</td>\n",
              "      <td>Source Verified</td>\n",
              "      <td>Fully Paid</td>\n",
              "      <td>37.0</td>\n",
              "      <td>20.00</td>\n",
              "    </tr>\n",
              "    <tr>\n",
              "      <th>4</th>\n",
              "      <td>3000</td>\n",
              "      <td>60 months</td>\n",
              "      <td>12.69%</td>\n",
              "      <td>67.79</td>\n",
              "      <td>B</td>\n",
              "      <td>B5</td>\n",
              "      <td>1 year</td>\n",
              "      <td>RENT</td>\n",
              "      <td>80000.0</td>\n",
              "      <td>Source Verified</td>\n",
              "      <td>Fully Paid</td>\n",
              "      <td>38.0</td>\n",
              "      <td>17.94</td>\n",
              "    </tr>\n",
              "  </tbody>\n",
              "</table>\n",
              "</div>"
            ],
            "text/plain": [
              "   loan_amnt        term int_rate  ...  loan_status total_acc    dti\n",
              "0       5000   36 months   10.65%  ...   Fully Paid       9.0  27.65\n",
              "1       2500   60 months   15.27%  ...  Charged Off       4.0   1.00\n",
              "2       2400   36 months   15.96%  ...   Fully Paid      10.0   8.72\n",
              "3      10000   36 months   13.49%  ...   Fully Paid      37.0  20.00\n",
              "4       3000   60 months   12.69%  ...   Fully Paid      38.0  17.94\n",
              "\n",
              "[5 rows x 13 columns]"
            ]
          },
          "metadata": {
            "tags": []
          },
          "execution_count": 3
        }
      ]
    },
    {
      "cell_type": "markdown",
      "metadata": {
        "id": "sGtlMjqQyKEX",
        "colab_type": "text"
      },
      "source": [
        "# 3. Data Cleaning"
      ]
    },
    {
      "cell_type": "code",
      "metadata": {
        "id": "1JtGJpijyEbz",
        "colab_type": "code",
        "outputId": "eb5698c4-2e73-471c-b7f6-3964fc79dffe",
        "colab": {
          "base_uri": "https://localhost:8080/",
          "height": 274
        }
      },
      "source": [
        "loan.isnull().any()"
      ],
      "execution_count": 4,
      "outputs": [
        {
          "output_type": "execute_result",
          "data": {
            "text/plain": [
              "loan_amnt              False\n",
              "term                   False\n",
              "int_rate               False\n",
              "installment            False\n",
              "grade                  False\n",
              "sub_grade              False\n",
              "emp_length              True\n",
              "home_ownership         False\n",
              "annual_inc              True\n",
              "verification_status    False\n",
              "loan_status            False\n",
              "total_acc               True\n",
              "dti                    False\n",
              "dtype: bool"
            ]
          },
          "metadata": {
            "tags": []
          },
          "execution_count": 4
        }
      ]
    },
    {
      "cell_type": "code",
      "metadata": {
        "id": "zfRR-vW5yynp",
        "colab_type": "code",
        "outputId": "028c0a29-c8d7-4554-95ec-2d2ddff8778f",
        "colab": {
          "base_uri": "https://localhost:8080/",
          "height": 1229
        }
      },
      "source": [
        "columns = [\"term\",\"sub_grade\",\"emp_length\",\"home_ownership\",\"verification_status\"]\n",
        "for col in columns:\n",
        "  print(loan[col].value_counts())\n",
        "  print(' ')"
      ],
      "execution_count": 5,
      "outputs": [
        {
          "output_type": "stream",
          "text": [
            " 36 months    31534\n",
            " 60 months    11001\n",
            "Name: term, dtype: int64\n",
            " \n",
            "B3    2997\n",
            "A4    2905\n",
            "B5    2807\n",
            "A5    2793\n",
            "B4    2590\n",
            "C1    2264\n",
            "C2    2157\n",
            "B2    2113\n",
            "B1    1882\n",
            "A3    1823\n",
            "C3    1658\n",
            "A2    1520\n",
            "D2    1485\n",
            "C4    1370\n",
            "D3    1322\n",
            "C5    1291\n",
            "A1    1142\n",
            "D4    1140\n",
            "D1    1053\n",
            "D5    1016\n",
            "E1     884\n",
            "E2     791\n",
            "E3     668\n",
            "E4     552\n",
            "E5     499\n",
            "F1     392\n",
            "F2     308\n",
            "F3     236\n",
            "F4     211\n",
            "F5     154\n",
            "G1     141\n",
            "G2     107\n",
            "G4      99\n",
            "G5      86\n",
            "G3      79\n",
            "Name: sub_grade, dtype: int64\n",
            " \n",
            "10+ years    9369\n",
            "< 1 year     5062\n",
            "2 years      4743\n",
            "3 years      4364\n",
            "4 years      3649\n",
            "1 year       3595\n",
            "5 years      3458\n",
            "6 years      2375\n",
            "7 years      1875\n",
            "8 years      1592\n",
            "9 years      1341\n",
            "Name: emp_length, dtype: int64\n",
            " \n",
            "RENT        20181\n",
            "MORTGAGE    18959\n",
            "OWN          3251\n",
            "OTHER         136\n",
            "NONE            8\n",
            "Name: home_ownership, dtype: int64\n",
            " \n",
            "Not Verified       18758\n",
            "Verified           13471\n",
            "Source Verified    10306\n",
            "Name: verification_status, dtype: int64\n",
            " \n"
          ],
          "name": "stdout"
        }
      ]
    },
    {
      "cell_type": "code",
      "metadata": {
        "id": "N7S62USn0Buo",
        "colab_type": "code",
        "outputId": "69e79bbc-1727-4c75-a0ee-cdeffaa2ca06",
        "colab": {
          "base_uri": "https://localhost:8080/",
          "height": 274
        }
      },
      "source": [
        "loan.isnull().sum()"
      ],
      "execution_count": 6,
      "outputs": [
        {
          "output_type": "execute_result",
          "data": {
            "text/plain": [
              "loan_amnt                 0\n",
              "term                      0\n",
              "int_rate                  0\n",
              "installment               0\n",
              "grade                     0\n",
              "sub_grade                 0\n",
              "emp_length             1112\n",
              "home_ownership            0\n",
              "annual_inc                4\n",
              "verification_status       0\n",
              "loan_status               0\n",
              "total_acc                29\n",
              "dti                       0\n",
              "dtype: int64"
            ]
          },
          "metadata": {
            "tags": []
          },
          "execution_count": 6
        }
      ]
    },
    {
      "cell_type": "code",
      "metadata": {
        "id": "fnhXCVF66ROP",
        "colab_type": "code",
        "outputId": "9a0b2330-f513-4fd2-da77-0d17e384291c",
        "colab": {
          "base_uri": "https://localhost:8080/",
          "height": 226
        }
      },
      "source": [
        "mapping_emp_length = {\n",
        "    \"emp_length\": {\n",
        "        \"10+ years\": 10,\n",
        "        \"9 years\": 9,\n",
        "        \"8 years\": 8,\n",
        "        \"7 years\": 7,\n",
        "        \"6 years\": 6,\n",
        "        \"5 years\": 5,\n",
        "        \"4 years\": 4,\n",
        "        \"3 years\": 3,\n",
        "        \"2 years\": 2,\n",
        "        \"1 year\": 1,\n",
        "        \"< 1 year\": 0\n",
        "    }\n",
        "}\n",
        "loan = loan.replace(mapping_emp_length)\n",
        "mapping_term = {\n",
        "    \"term\": {\n",
        "        \" 36 months\": 1,\n",
        "        \" 60 months\": 0\n",
        "    }\n",
        "}\n",
        "loan = loan.replace(mapping_term)\n",
        "mapping_grade= {\n",
        "    \"grade\": {\n",
        "        \"A\": 0, \"B\": 1, \"C\": 2, \"D\": 3, \"E\": 4, \"F\": 5, \"G\": 6\n",
        "    }\n",
        "}\n",
        "loan = loan.replace(mapping_grade)\n",
        "mapping_subgrade= {\n",
        "    \"sub_grade\": {\n",
        "        \"A1\":  0, \"A2\":  1, \"A3\":  2, \"A4\":  3, \"A5\":  4, \n",
        "        \"B1\":  5, \"B2\":  6, \"B3\":  7, \"B4\":  8, \"B5\":  9,\n",
        "        \"C1\": 10, \"C2\": 11, \"C3\": 12, \"C4\": 13, \"C5\": 14,\n",
        "        \"D1\": 15, \"D2\": 16, \"D3\": 17, \"D4\": 18, \"D5\": 19,\n",
        "        \"E1\": 20, \"E2\": 21, \"E3\": 22, \"E4\": 23, \"E5\": 24,\n",
        "        \"F1\": 25, \"F2\": 26, \"F3\": 27, \"F4\": 28, \"F5\": 29,\n",
        "        \"G1\": 30, \"G2\": 31, \"G3\": 32, \"G4\": 33, \"G5\": 34,\n",
        "    }\n",
        "}\n",
        "loan = loan.replace(mapping_subgrade)\n",
        "mapping_homeownership= {\n",
        "    \"home_ownership\": {\n",
        "        \"RENT\": 0, \"MORTGAGE\": 1, \"OWN\": 2, \"OTHER\": 3, \"NONE\": 4\n",
        "    }\n",
        "}\n",
        "loan = loan.replace(mapping_homeownership)\n",
        "mapping_verification= {\n",
        "    \"verification_status\": {\n",
        "        \"Not Verified\": 0, \"Verified\": 1, \"Source Verified\": 2\n",
        "    }\n",
        "}\n",
        "loan = loan.replace(mapping_verification)\n",
        "loan[\"int_rate\"] = loan[\"int_rate\"].astype(str).str.strip('%').astype(float)\n",
        "loan.fillna(0, inplace=True)\n",
        "loan.head()"
      ],
      "execution_count": 7,
      "outputs": [
        {
          "output_type": "execute_result",
          "data": {
            "text/html": [
              "<div>\n",
              "<style scoped>\n",
              "    .dataframe tbody tr th:only-of-type {\n",
              "        vertical-align: middle;\n",
              "    }\n",
              "\n",
              "    .dataframe tbody tr th {\n",
              "        vertical-align: top;\n",
              "    }\n",
              "\n",
              "    .dataframe thead th {\n",
              "        text-align: right;\n",
              "    }\n",
              "</style>\n",
              "<table border=\"1\" class=\"dataframe\">\n",
              "  <thead>\n",
              "    <tr style=\"text-align: right;\">\n",
              "      <th></th>\n",
              "      <th>loan_amnt</th>\n",
              "      <th>term</th>\n",
              "      <th>int_rate</th>\n",
              "      <th>installment</th>\n",
              "      <th>grade</th>\n",
              "      <th>sub_grade</th>\n",
              "      <th>emp_length</th>\n",
              "      <th>home_ownership</th>\n",
              "      <th>annual_inc</th>\n",
              "      <th>verification_status</th>\n",
              "      <th>loan_status</th>\n",
              "      <th>total_acc</th>\n",
              "      <th>dti</th>\n",
              "    </tr>\n",
              "  </thead>\n",
              "  <tbody>\n",
              "    <tr>\n",
              "      <th>0</th>\n",
              "      <td>5000</td>\n",
              "      <td>1</td>\n",
              "      <td>10.65</td>\n",
              "      <td>162.87</td>\n",
              "      <td>1</td>\n",
              "      <td>6</td>\n",
              "      <td>10.0</td>\n",
              "      <td>0</td>\n",
              "      <td>24000.0</td>\n",
              "      <td>1</td>\n",
              "      <td>Fully Paid</td>\n",
              "      <td>9.0</td>\n",
              "      <td>27.65</td>\n",
              "    </tr>\n",
              "    <tr>\n",
              "      <th>1</th>\n",
              "      <td>2500</td>\n",
              "      <td>0</td>\n",
              "      <td>15.27</td>\n",
              "      <td>59.83</td>\n",
              "      <td>2</td>\n",
              "      <td>13</td>\n",
              "      <td>0.0</td>\n",
              "      <td>0</td>\n",
              "      <td>30000.0</td>\n",
              "      <td>2</td>\n",
              "      <td>Charged Off</td>\n",
              "      <td>4.0</td>\n",
              "      <td>1.00</td>\n",
              "    </tr>\n",
              "    <tr>\n",
              "      <th>2</th>\n",
              "      <td>2400</td>\n",
              "      <td>1</td>\n",
              "      <td>15.96</td>\n",
              "      <td>84.33</td>\n",
              "      <td>2</td>\n",
              "      <td>14</td>\n",
              "      <td>10.0</td>\n",
              "      <td>0</td>\n",
              "      <td>12252.0</td>\n",
              "      <td>0</td>\n",
              "      <td>Fully Paid</td>\n",
              "      <td>10.0</td>\n",
              "      <td>8.72</td>\n",
              "    </tr>\n",
              "    <tr>\n",
              "      <th>3</th>\n",
              "      <td>10000</td>\n",
              "      <td>1</td>\n",
              "      <td>13.49</td>\n",
              "      <td>339.31</td>\n",
              "      <td>2</td>\n",
              "      <td>10</td>\n",
              "      <td>10.0</td>\n",
              "      <td>0</td>\n",
              "      <td>49200.0</td>\n",
              "      <td>2</td>\n",
              "      <td>Fully Paid</td>\n",
              "      <td>37.0</td>\n",
              "      <td>20.00</td>\n",
              "    </tr>\n",
              "    <tr>\n",
              "      <th>4</th>\n",
              "      <td>3000</td>\n",
              "      <td>0</td>\n",
              "      <td>12.69</td>\n",
              "      <td>67.79</td>\n",
              "      <td>1</td>\n",
              "      <td>9</td>\n",
              "      <td>1.0</td>\n",
              "      <td>0</td>\n",
              "      <td>80000.0</td>\n",
              "      <td>2</td>\n",
              "      <td>Fully Paid</td>\n",
              "      <td>38.0</td>\n",
              "      <td>17.94</td>\n",
              "    </tr>\n",
              "  </tbody>\n",
              "</table>\n",
              "</div>"
            ],
            "text/plain": [
              "   loan_amnt  term  int_rate  ...  loan_status  total_acc    dti\n",
              "0       5000     1     10.65  ...   Fully Paid        9.0  27.65\n",
              "1       2500     0     15.27  ...  Charged Off        4.0   1.00\n",
              "2       2400     1     15.96  ...   Fully Paid       10.0   8.72\n",
              "3      10000     1     13.49  ...   Fully Paid       37.0  20.00\n",
              "4       3000     0     12.69  ...   Fully Paid       38.0  17.94\n",
              "\n",
              "[5 rows x 13 columns]"
            ]
          },
          "metadata": {
            "tags": []
          },
          "execution_count": 7
        }
      ]
    },
    {
      "cell_type": "code",
      "metadata": {
        "id": "7bSx5hDBtUnI",
        "colab_type": "code",
        "outputId": "e0b48f04-c2de-48f3-e204-bb92015a7748",
        "colab": {
          "base_uri": "https://localhost:8080/",
          "height": 109
        }
      },
      "source": [
        "loan['loan_status'].value_counts()"
      ],
      "execution_count": 8,
      "outputs": [
        {
          "output_type": "execute_result",
          "data": {
            "text/plain": [
              "Fully Paid                                             34116\n",
              "Charged Off                                             5670\n",
              "Does not meet the credit policy. Status:Fully Paid      1988\n",
              "Does not meet the credit policy. Status:Charged Off      761\n",
              "Name: loan_status, dtype: int64"
            ]
          },
          "metadata": {
            "tags": []
          },
          "execution_count": 8
        }
      ]
    },
    {
      "cell_type": "code",
      "metadata": {
        "id": "I1_DlE6Ax62Z",
        "colab_type": "code",
        "outputId": "d1852b54-28f3-4609-eb1a-aee18996d4c8",
        "colab": {
          "base_uri": "https://localhost:8080/",
          "height": 72
        }
      },
      "source": [
        "status_replace = {\n",
        "    \"loan_status\" : {\n",
        "        \"Fully Paid\": 1,\n",
        "        \"Charged Off\": 0,\n",
        "        \"Does not meet the credit policy. Status:Fully Paid\": 1,\n",
        "        \"Does not meet the credit policy. Status:Charged Off\": 0,\n",
        "    }\n",
        "}\n",
        "loan = loan.replace(status_replace)\n",
        "loan['loan_status'].value_counts()"
      ],
      "execution_count": 9,
      "outputs": [
        {
          "output_type": "execute_result",
          "data": {
            "text/plain": [
              "1    36104\n",
              "0     6431\n",
              "Name: loan_status, dtype: int64"
            ]
          },
          "metadata": {
            "tags": []
          },
          "execution_count": 9
        }
      ]
    },
    {
      "cell_type": "code",
      "metadata": {
        "id": "jmSzQlkDNQno",
        "colab_type": "code",
        "outputId": "7ef8ce57-0d27-447e-b1f1-63cd019d3922",
        "colab": {
          "base_uri": "https://localhost:8080/",
          "height": 530
        }
      },
      "source": [
        "plt.figure(figsize= (8,8))\n",
        "plt_list = [\"loan_amnt\",\"term\",\"int_rate\",\"installment\",\"grade\",\"sub_grade\",\"emp_length\",\"home_ownership\",\"annual_inc\",\"verification_status\",\"loan_status\",\"total_acc\",\"dti\"]\n",
        "plt.imshow(loan[plt_list].corr(), cmap = plt.cm.Reds, interpolation = 'nearest')\n",
        "plt.colorbar()\n",
        "\n",
        "tick_marks = [i for i in range(len(loan[plt_list].columns))]\n",
        "plt.xticks(tick_marks, loan[plt_list].columns, rotation = 'vertical')\n",
        "plt.yticks(tick_marks, loan[plt_list].columns)\n",
        "plt.show()"
      ],
      "execution_count": 10,
      "outputs": [
        {
          "output_type": "display_data",
          "data": {
            "image/png": "[encoded data removed]",
            "text/plain": [
              "<Figure size 576x576 with 2 Axes>"
            ]
          },
          "metadata": {
            "tags": []
          }
        }
      ]
    },
    {
      "cell_type": "code",
      "metadata": {
        "id": "3EZG-l8UEcXw",
        "colab_type": "code",
        "outputId": "4ba85a65-adca-4b93-cdd0-d669366ef430",
        "colab": {
          "base_uri": "https://localhost:8080/",
          "height": 610
        }
      },
      "source": [
        "fig,axes = plt.subplots(2,3, figsize = (12,10))\n",
        "plt_list = [\"loan_amnt\",\"int_rate\",\"sub_grade\",\"emp_length\",\"total_acc\",\"dti\"]\n",
        "for i,t in enumerate(plt_list):\n",
        "  sns.boxplot(y = t, x = \"loan_status\", data= loan, ax = axes[i//3, i%3])"
      ],
      "execution_count": 11,
      "outputs": [
        {
          "output_type": "display_data",
          "data": {
            "image/png": "[encoded data removed]",
            "text/plain": [
              "<Figure size 864x720 with 6 Axes>"
            ]
          },
          "metadata": {
            "tags": []
          }
        }
      ]
    },
    {
      "cell_type": "code",
      "metadata": {
        "id": "k5KFO-aeNB2v",
        "colab_type": "code",
        "outputId": "c679b58c-10d0-4861-a8d6-4788463fe51d",
        "colab": {
          "base_uri": "https://localhost:8080/",
          "height": 206
        }
      },
      "source": [
        "loan = loan.drop([\"installment\",\"grade\",\"emp_length\",\"total_acc\",\"loan_amnt\"], axis=1)\n",
        "loan.head()"
      ],
      "execution_count": 12,
      "outputs": [
        {
          "output_type": "execute_result",
          "data": {
            "text/html": [
              "<div>\n",
              "<style scoped>\n",
              "    .dataframe tbody tr th:only-of-type {\n",
              "        vertical-align: middle;\n",
              "    }\n",
              "\n",
              "    .dataframe tbody tr th {\n",
              "        vertical-align: top;\n",
              "    }\n",
              "\n",
              "    .dataframe thead th {\n",
              "        text-align: right;\n",
              "    }\n",
              "</style>\n",
              "<table border=\"1\" class=\"dataframe\">\n",
              "  <thead>\n",
              "    <tr style=\"text-align: right;\">\n",
              "      <th></th>\n",
              "      <th>term</th>\n",
              "      <th>int_rate</th>\n",
              "      <th>sub_grade</th>\n",
              "      <th>home_ownership</th>\n",
              "      <th>annual_inc</th>\n",
              "      <th>verification_status</th>\n",
              "      <th>loan_status</th>\n",
              "      <th>dti</th>\n",
              "    </tr>\n",
              "  </thead>\n",
              "  <tbody>\n",
              "    <tr>\n",
              "      <th>0</th>\n",
              "      <td>1</td>\n",
              "      <td>10.65</td>\n",
              "      <td>6</td>\n",
              "      <td>0</td>\n",
              "      <td>24000.0</td>\n",
              "      <td>1</td>\n",
              "      <td>1</td>\n",
              "      <td>27.65</td>\n",
              "    </tr>\n",
              "    <tr>\n",
              "      <th>1</th>\n",
              "      <td>0</td>\n",
              "      <td>15.27</td>\n",
              "      <td>13</td>\n",
              "      <td>0</td>\n",
              "      <td>30000.0</td>\n",
              "      <td>2</td>\n",
              "      <td>0</td>\n",
              "      <td>1.00</td>\n",
              "    </tr>\n",
              "    <tr>\n",
              "      <th>2</th>\n",
              "      <td>1</td>\n",
              "      <td>15.96</td>\n",
              "      <td>14</td>\n",
              "      <td>0</td>\n",
              "      <td>12252.0</td>\n",
              "      <td>0</td>\n",
              "      <td>1</td>\n",
              "      <td>8.72</td>\n",
              "    </tr>\n",
              "    <tr>\n",
              "      <th>3</th>\n",
              "      <td>1</td>\n",
              "      <td>13.49</td>\n",
              "      <td>10</td>\n",
              "      <td>0</td>\n",
              "      <td>49200.0</td>\n",
              "      <td>2</td>\n",
              "      <td>1</td>\n",
              "      <td>20.00</td>\n",
              "    </tr>\n",
              "    <tr>\n",
              "      <th>4</th>\n",
              "      <td>0</td>\n",
              "      <td>12.69</td>\n",
              "      <td>9</td>\n",
              "      <td>0</td>\n",
              "      <td>80000.0</td>\n",
              "      <td>2</td>\n",
              "      <td>1</td>\n",
              "      <td>17.94</td>\n",
              "    </tr>\n",
              "  </tbody>\n",
              "</table>\n",
              "</div>"
            ],
            "text/plain": [
              "   term  int_rate  sub_grade  ...  verification_status  loan_status    dti\n",
              "0     1     10.65          6  ...                    1            1  27.65\n",
              "1     0     15.27         13  ...                    2            0   1.00\n",
              "2     1     15.96         14  ...                    0            1   8.72\n",
              "3     1     13.49         10  ...                    2            1  20.00\n",
              "4     0     12.69          9  ...                    2            1  17.94\n",
              "\n",
              "[5 rows x 8 columns]"
            ]
          },
          "metadata": {
            "tags": []
          },
          "execution_count": 12
        }
      ]
    },
    {
      "cell_type": "markdown",
      "metadata": {
        "id": "9MSH4i8rxlOY",
        "colab_type": "text"
      },
      "source": [
        "# 4. Logistic Regression"
      ]
    },
    {
      "cell_type": "code",
      "metadata": {
        "id": "lfA2QjiXt94D",
        "colab_type": "code",
        "outputId": "ec83fcdf-14b2-429f-adff-9871a645e0d4",
        "colab": {
          "base_uri": "https://localhost:8080/",
          "height": 35
        }
      },
      "source": [
        "from sklearn.linear_model import LogisticRegression\n",
        "from sklearn.model_selection import train_test_split\n",
        "from sklearn.metrics import accuracy_score\n",
        "\n",
        "model = LogisticRegression(solver='liblinear')\n",
        "features = loan[loan.columns.drop('loan_status')]\n",
        "target = loan['loan_status']\n",
        "x_train, x_test, y_train, y_test = train_test_split(features, target, test_size=0.2, random_state=42)\n",
        "model.fit(x_train, y_train)\n",
        "predictions = model.predict(x_test)\n",
        "print(accuracy_score(y_test, predictions))"
      ],
      "execution_count": 13,
      "outputs": [
        {
          "output_type": "stream",
          "text": [
            "0.8551780886328906\n"
          ],
          "name": "stdout"
        }
      ]
    },
    {
      "cell_type": "markdown",
      "metadata": {
        "id": "jl6JKO7kvpk-",
        "colab_type": "text"
      },
      "source": [
        "# 5. Conclusion\n",
        "\n",
        "I have applied the logistic regression model to predict the probability that a loan will be paid off from the LendingClub dataset. The model obtained an accuracy score of 0.855.\n",
        "\n",
        "So far, the most important features for predicting paid-off rate are the interest rate, term, (sub)grade and debt-to-income ratio. However, there may be more interesting features which are not considered in this analysis. "
      ]
    }
  ]
}