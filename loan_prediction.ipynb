{
  "nbformat": 4,
  "nbformat_minor": 0,
  "metadata": {
    "colab": {
      "name": "loan_prediction.ipynb",
      "version": "0.3.2",
      "provenance": []
    },
    "kernelspec": {
      "name": "python3",
      "display_name": "Python 3"
    }
  },
  "cells": [
    {
      "cell_type": "markdown",
      "metadata": {
        "id": "nWxDY5iwakvB",
        "colab_type": "text"
      },
      "source": [
        "Introduction"
      ]
    },
    {
      "cell_type": "code",
      "metadata": {
        "id": "KaZ58UZMat0T",
        "colab_type": "code",
        "outputId": "df2f66e2-5728-4ab9-c0d1-a653acba2308",
        "colab": {
          "base_uri": "https://localhost:8080/",
          "height": 35
        }
      },
      "source": [
        "import numpy as np\n",
        "import pandas as pd\n",
        "import matplotlib.pyplot as plt\n",
        "\n",
        "loan = pd.read_csv('LoanStats3a.csv', low_memory = False, skiprows = 1)\n",
        "print(\"The loan dataset has {} samples with {} features.\".format(*loan.shape))"
      ],
      "execution_count": 35,
      "outputs": [
        {
          "output_type": "stream",
          "text": [
            "The loan dataset has 42535 samples with 144 features.\n"
          ],
          "name": "stdout"
        }
      ]
    },
    {
      "cell_type": "code",
      "metadata": {
        "id": "Ya8GeketkL9N",
        "colab_type": "code",
        "colab": {}
      },
      "source": [
        "loan = loan[[\"loan_amnt\",\"term\",\"int_rate\",\"installment\",\"grade\",\"sub_grade\",\"emp_length\",\"home_ownership\",\"annual_inc\",\"verification_status\",\"issue_d\",\"loan_status\",\"total_acc\"]]"
      ],
      "execution_count": 0,
      "outputs": []
    },
    {
      "cell_type": "code",
      "metadata": {
        "id": "Ri6Hhy94n-Pk",
        "colab_type": "code",
        "outputId": "90c36d04-6015-41b7-de78-0efea0dd7b2d",
        "colab": {
          "base_uri": "https://localhost:8080/",
          "height": 313
        }
      },
      "source": [
        "loan.head()"
      ],
      "execution_count": 37,
      "outputs": [
        {
          "output_type": "execute_result",
          "data": {
            "text/html": [
              "<div>\n",
              "<style scoped>\n",
              "    .dataframe tbody tr th:only-of-type {\n",
              "        vertical-align: middle;\n",
              "    }\n",
              "\n",
              "    .dataframe tbody tr th {\n",
              "        vertical-align: top;\n",
              "    }\n",
              "\n",
              "    .dataframe thead th {\n",
              "        text-align: right;\n",
              "    }\n",
              "</style>\n",
              "<table border=\"1\" class=\"dataframe\">\n",
              "  <thead>\n",
              "    <tr style=\"text-align: right;\">\n",
              "      <th></th>\n",
              "      <th>loan_amnt</th>\n",
              "      <th>funded_amnt</th>\n",
              "      <th>funded_amnt_inv</th>\n",
              "      <th>term</th>\n",
              "      <th>int_rate</th>\n",
              "      <th>installment</th>\n",
              "      <th>grade</th>\n",
              "      <th>sub_grade</th>\n",
              "      <th>emp_length</th>\n",
              "      <th>home_ownership</th>\n",
              "      <th>annual_inc</th>\n",
              "      <th>verification_status</th>\n",
              "      <th>issue_d</th>\n",
              "      <th>loan_status</th>\n",
              "      <th>total_acc</th>\n",
              "      <th>chargeoff_within_12_mths</th>\n",
              "    </tr>\n",
              "  </thead>\n",
              "  <tbody>\n",
              "    <tr>\n",
              "      <th>0</th>\n",
              "      <td>5000</td>\n",
              "      <td>5000</td>\n",
              "      <td>4975.0</td>\n",
              "      <td>36 months</td>\n",
              "      <td>10.65%</td>\n",
              "      <td>162.87</td>\n",
              "      <td>B</td>\n",
              "      <td>B2</td>\n",
              "      <td>10+ years</td>\n",
              "      <td>RENT</td>\n",
              "      <td>24000.0</td>\n",
              "      <td>Verified</td>\n",
              "      <td>Dec-2011</td>\n",
              "      <td>Fully Paid</td>\n",
              "      <td>9.0</td>\n",
              "      <td>0.0</td>\n",
              "    </tr>\n",
              "    <tr>\n",
              "      <th>1</th>\n",
              "      <td>2500</td>\n",
              "      <td>2500</td>\n",
              "      <td>2500.0</td>\n",
              "      <td>60 months</td>\n",
              "      <td>15.27%</td>\n",
              "      <td>59.83</td>\n",
              "      <td>C</td>\n",
              "      <td>C4</td>\n",
              "      <td>&lt; 1 year</td>\n",
              "      <td>RENT</td>\n",
              "      <td>30000.0</td>\n",
              "      <td>Source Verified</td>\n",
              "      <td>Dec-2011</td>\n",
              "      <td>Charged Off</td>\n",
              "      <td>4.0</td>\n",
              "      <td>0.0</td>\n",
              "    </tr>\n",
              "    <tr>\n",
              "      <th>2</th>\n",
              "      <td>2400</td>\n",
              "      <td>2400</td>\n",
              "      <td>2400.0</td>\n",
              "      <td>36 months</td>\n",
              "      <td>15.96%</td>\n",
              "      <td>84.33</td>\n",
              "      <td>C</td>\n",
              "      <td>C5</td>\n",
              "      <td>10+ years</td>\n",
              "      <td>RENT</td>\n",
              "      <td>12252.0</td>\n",
              "      <td>Not Verified</td>\n",
              "      <td>Dec-2011</td>\n",
              "      <td>Fully Paid</td>\n",
              "      <td>10.0</td>\n",
              "      <td>0.0</td>\n",
              "    </tr>\n",
              "    <tr>\n",
              "      <th>3</th>\n",
              "      <td>10000</td>\n",
              "      <td>10000</td>\n",
              "      <td>10000.0</td>\n",
              "      <td>36 months</td>\n",
              "      <td>13.49%</td>\n",
              "      <td>339.31</td>\n",
              "      <td>C</td>\n",
              "      <td>C1</td>\n",
              "      <td>10+ years</td>\n",
              "      <td>RENT</td>\n",
              "      <td>49200.0</td>\n",
              "      <td>Source Verified</td>\n",
              "      <td>Dec-2011</td>\n",
              "      <td>Fully Paid</td>\n",
              "      <td>37.0</td>\n",
              "      <td>0.0</td>\n",
              "    </tr>\n",
              "    <tr>\n",
              "      <th>4</th>\n",
              "      <td>3000</td>\n",
              "      <td>3000</td>\n",
              "      <td>3000.0</td>\n",
              "      <td>60 months</td>\n",
              "      <td>12.69%</td>\n",
              "      <td>67.79</td>\n",
              "      <td>B</td>\n",
              "      <td>B5</td>\n",
              "      <td>1 year</td>\n",
              "      <td>RENT</td>\n",
              "      <td>80000.0</td>\n",
              "      <td>Source Verified</td>\n",
              "      <td>Dec-2011</td>\n",
              "      <td>Fully Paid</td>\n",
              "      <td>38.0</td>\n",
              "      <td>0.0</td>\n",
              "    </tr>\n",
              "  </tbody>\n",
              "</table>\n",
              "</div>"
            ],
            "text/plain": [
              "   loan_amnt  funded_amnt  funded_amnt_inv        term int_rate  installment  \\\n",
              "0       5000         5000           4975.0   36 months   10.65%       162.87   \n",
              "1       2500         2500           2500.0   60 months   15.27%        59.83   \n",
              "2       2400         2400           2400.0   36 months   15.96%        84.33   \n",
              "3      10000        10000          10000.0   36 months   13.49%       339.31   \n",
              "4       3000         3000           3000.0   60 months   12.69%        67.79   \n",
              "\n",
              "  grade sub_grade emp_length home_ownership  annual_inc verification_status  \\\n",
              "0     B        B2  10+ years           RENT     24000.0            Verified   \n",
              "1     C        C4   < 1 year           RENT     30000.0     Source Verified   \n",
              "2     C        C5  10+ years           RENT     12252.0        Not Verified   \n",
              "3     C        C1  10+ years           RENT     49200.0     Source Verified   \n",
              "4     B        B5     1 year           RENT     80000.0     Source Verified   \n",
              "\n",
              "    issue_d  loan_status  total_acc  chargeoff_within_12_mths  \n",
              "0  Dec-2011   Fully Paid        9.0                       0.0  \n",
              "1  Dec-2011  Charged Off        4.0                       0.0  \n",
              "2  Dec-2011   Fully Paid       10.0                       0.0  \n",
              "3  Dec-2011   Fully Paid       37.0                       0.0  \n",
              "4  Dec-2011   Fully Paid       38.0                       0.0  "
            ]
          },
          "metadata": {
            "tags": []
          },
          "execution_count": 37
        }
      ]
    },
    {
      "cell_type": "code",
      "metadata": {
        "id": "1JtGJpijyEbz",
        "colab_type": "code",
        "colab": {
          "base_uri": "https://localhost:8080/",
          "height": 329
        },
        "outputId": "51b2a343-2659-4ccc-dca9-a4137cc9e461"
      },
      "source": [
        "loan.isnull().any()"
      ],
      "execution_count": 38,
      "outputs": [
        {
          "output_type": "execute_result",
          "data": {
            "text/plain": [
              "loan_amnt                   False\n",
              "funded_amnt                 False\n",
              "funded_amnt_inv             False\n",
              "term                        False\n",
              "int_rate                    False\n",
              "installment                 False\n",
              "grade                       False\n",
              "sub_grade                   False\n",
              "emp_length                   True\n",
              "home_ownership              False\n",
              "annual_inc                   True\n",
              "verification_status         False\n",
              "issue_d                     False\n",
              "loan_status                 False\n",
              "total_acc                    True\n",
              "chargeoff_within_12_mths     True\n",
              "dtype: bool"
            ]
          },
          "metadata": {
            "tags": []
          },
          "execution_count": 38
        }
      ]
    },
    {
      "cell_type": "code",
      "metadata": {
        "id": "zfRR-vW5yynp",
        "colab_type": "code",
        "colab": {
          "base_uri": "https://localhost:8080/",
          "height": 1284
        },
        "outputId": "01753e90-118f-4e0f-c1c5-ddada0a37ab1"
      },
      "source": [
        "columns = [\"term\",\"sub_grade\",\"emp_length\",\"home_ownership\",\"verification_status\"]\n",
        "for col in columns:\n",
        "  print(loan[col].value_counts())\n",
        "  print(' ')"
      ],
      "execution_count": 39,
      "outputs": [
        {
          "output_type": "stream",
          "text": [
            " 36 months    31534\n",
            " 60 months    11001\n",
            "Name: term, dtype: int64\n",
            " \n",
            "B3    2997\n",
            "A4    2905\n",
            "B5    2807\n",
            "A5    2793\n",
            "B4    2590\n",
            "C1    2264\n",
            "C2    2157\n",
            "B2    2113\n",
            "B1    1882\n",
            "A3    1823\n",
            "C3    1658\n",
            "A2    1520\n",
            "D2    1485\n",
            "C4    1370\n",
            "D3    1322\n",
            "C5    1291\n",
            "A1    1142\n",
            "D4    1140\n",
            "D1    1053\n",
            "D5    1016\n",
            "E1     884\n",
            "E2     791\n",
            "E3     668\n",
            "E4     552\n",
            "E5     499\n",
            "F1     392\n",
            "F2     308\n",
            "F3     236\n",
            "F4     211\n",
            "F5     154\n",
            "G1     141\n",
            "G2     107\n",
            "G4      99\n",
            "G5      86\n",
            "G3      79\n",
            "Name: sub_grade, dtype: int64\n",
            " \n",
            "10+ years    9369\n",
            "< 1 year     5062\n",
            "2 years      4743\n",
            "3 years      4364\n",
            "4 years      3649\n",
            "1 year       3595\n",
            "5 years      3458\n",
            "6 years      2375\n",
            "7 years      1875\n",
            "8 years      1592\n",
            "9 years      1341\n",
            "Name: emp_length, dtype: int64\n",
            " \n",
            "RENT        20181\n",
            "MORTGAGE    18959\n",
            "OWN          3251\n",
            "OTHER         136\n",
            "NONE            8\n",
            "Name: home_ownership, dtype: int64\n",
            " \n",
            "Not Verified       18758\n",
            "Verified           13471\n",
            "Source Verified    10306\n",
            "Name: verification_status, dtype: int64\n",
            " \n",
            "0.0    42390\n",
            "Name: chargeoff_within_12_mths, dtype: int64\n",
            " \n"
          ],
          "name": "stdout"
        }
      ]
    },
    {
      "cell_type": "code",
      "metadata": {
        "id": "N7S62USn0Buo",
        "colab_type": "code",
        "colab": {
          "base_uri": "https://localhost:8080/",
          "height": 329
        },
        "outputId": "cb42abc9-15b4-430c-8127-d22db9ce702e"
      },
      "source": [
        "loan.isnull().sum()"
      ],
      "execution_count": 40,
      "outputs": [
        {
          "output_type": "execute_result",
          "data": {
            "text/plain": [
              "loan_amnt                      0\n",
              "funded_amnt                    0\n",
              "funded_amnt_inv                0\n",
              "term                           0\n",
              "int_rate                       0\n",
              "installment                    0\n",
              "grade                          0\n",
              "sub_grade                      0\n",
              "emp_length                  1112\n",
              "home_ownership                 0\n",
              "annual_inc                     4\n",
              "verification_status            0\n",
              "issue_d                        0\n",
              "loan_status                    0\n",
              "total_acc                     29\n",
              "chargeoff_within_12_mths     145\n",
              "dtype: int64"
            ]
          },
          "metadata": {
            "tags": []
          },
          "execution_count": 40
        }
      ]
    },
    {
      "cell_type": "code",
      "metadata": {
        "id": "fnhXCVF66ROP",
        "colab_type": "code",
        "colab": {
          "base_uri": "https://localhost:8080/",
          "height": 273
        },
        "outputId": "6a3145a5-c1d3-41ca-d3fc-939f91b9d984"
      },
      "source": [
        "mapping_emp_length = {\n",
        "    \"emp_length\": {\n",
        "        \"10+ years\": 10,\n",
        "        \"9 years\": 9,\n",
        "        \"8 years\": 8,\n",
        "        \"7 years\": 7,\n",
        "        \"6 years\": 6,\n",
        "        \"5 years\": 5,\n",
        "        \"4 years\": 4,\n",
        "        \"3 years\": 3,\n",
        "        \"2 years\": 2,\n",
        "        \"1 year\": 1,\n",
        "        \"< 1 year\": 0,\n",
        "        \"n/a\": 0\n",
        "    }\n",
        "}\n",
        "loan = loan.replace(mapping_emp_length)\n",
        "mapping_term = {\n",
        "    \"term\": {\n",
        "        \" 36 months\": 1,\n",
        "        \" 60 months\": 0\n",
        "    }\n",
        "}\n",
        "loan = loan.replace(mapping_term)\n",
        "loan[\"int_rate\"] = loan[\"int_rate\"].astype(str).str.strip('%').astype(float)\n",
        "#\n",
        "categorical_columns = [\"home_ownership\", \"verification_status\"]\n",
        "dummy_df = pd.get_dummies(loan[categorical_columns])\n",
        "loan = pd.concat([loan, dummy_df], axis=1)\n",
        "loan = loan.drop(categorical_columns, axis=1)\n",
        "#\n",
        "loan.head()"
      ],
      "execution_count": 41,
      "outputs": [
        {
          "output_type": "execute_result",
          "data": {
            "text/html": [
              "<div>\n",
              "<style scoped>\n",
              "    .dataframe tbody tr th:only-of-type {\n",
              "        vertical-align: middle;\n",
              "    }\n",
              "\n",
              "    .dataframe tbody tr th {\n",
              "        vertical-align: top;\n",
              "    }\n",
              "\n",
              "    .dataframe thead th {\n",
              "        text-align: right;\n",
              "    }\n",
              "</style>\n",
              "<table border=\"1\" class=\"dataframe\">\n",
              "  <thead>\n",
              "    <tr style=\"text-align: right;\">\n",
              "      <th></th>\n",
              "      <th>loan_amnt</th>\n",
              "      <th>funded_amnt</th>\n",
              "      <th>funded_amnt_inv</th>\n",
              "      <th>term</th>\n",
              "      <th>int_rate</th>\n",
              "      <th>installment</th>\n",
              "      <th>grade</th>\n",
              "      <th>sub_grade</th>\n",
              "      <th>emp_length</th>\n",
              "      <th>annual_inc</th>\n",
              "      <th>...</th>\n",
              "      <th>total_acc</th>\n",
              "      <th>chargeoff_within_12_mths</th>\n",
              "      <th>home_ownership_MORTGAGE</th>\n",
              "      <th>home_ownership_NONE</th>\n",
              "      <th>home_ownership_OTHER</th>\n",
              "      <th>home_ownership_OWN</th>\n",
              "      <th>home_ownership_RENT</th>\n",
              "      <th>verification_status_Not Verified</th>\n",
              "      <th>verification_status_Source Verified</th>\n",
              "      <th>verification_status_Verified</th>\n",
              "    </tr>\n",
              "  </thead>\n",
              "  <tbody>\n",
              "    <tr>\n",
              "      <th>0</th>\n",
              "      <td>5000</td>\n",
              "      <td>5000</td>\n",
              "      <td>4975.0</td>\n",
              "      <td>1</td>\n",
              "      <td>10.65</td>\n",
              "      <td>162.87</td>\n",
              "      <td>B</td>\n",
              "      <td>B2</td>\n",
              "      <td>10</td>\n",
              "      <td>24000.0</td>\n",
              "      <td>...</td>\n",
              "      <td>9.0</td>\n",
              "      <td>0.0</td>\n",
              "      <td>0</td>\n",
              "      <td>0</td>\n",
              "      <td>0</td>\n",
              "      <td>0</td>\n",
              "      <td>1</td>\n",
              "      <td>0</td>\n",
              "      <td>0</td>\n",
              "      <td>1</td>\n",
              "    </tr>\n",
              "    <tr>\n",
              "      <th>1</th>\n",
              "      <td>2500</td>\n",
              "      <td>2500</td>\n",
              "      <td>2500.0</td>\n",
              "      <td>0</td>\n",
              "      <td>15.27</td>\n",
              "      <td>59.83</td>\n",
              "      <td>C</td>\n",
              "      <td>C4</td>\n",
              "      <td>0</td>\n",
              "      <td>30000.0</td>\n",
              "      <td>...</td>\n",
              "      <td>4.0</td>\n",
              "      <td>0.0</td>\n",
              "      <td>0</td>\n",
              "      <td>0</td>\n",
              "      <td>0</td>\n",
              "      <td>0</td>\n",
              "      <td>1</td>\n",
              "      <td>0</td>\n",
              "      <td>1</td>\n",
              "      <td>0</td>\n",
              "    </tr>\n",
              "    <tr>\n",
              "      <th>2</th>\n",
              "      <td>2400</td>\n",
              "      <td>2400</td>\n",
              "      <td>2400.0</td>\n",
              "      <td>1</td>\n",
              "      <td>15.96</td>\n",
              "      <td>84.33</td>\n",
              "      <td>C</td>\n",
              "      <td>C5</td>\n",
              "      <td>10</td>\n",
              "      <td>12252.0</td>\n",
              "      <td>...</td>\n",
              "      <td>10.0</td>\n",
              "      <td>0.0</td>\n",
              "      <td>0</td>\n",
              "      <td>0</td>\n",
              "      <td>0</td>\n",
              "      <td>0</td>\n",
              "      <td>1</td>\n",
              "      <td>1</td>\n",
              "      <td>0</td>\n",
              "      <td>0</td>\n",
              "    </tr>\n",
              "    <tr>\n",
              "      <th>3</th>\n",
              "      <td>10000</td>\n",
              "      <td>10000</td>\n",
              "      <td>10000.0</td>\n",
              "      <td>1</td>\n",
              "      <td>13.49</td>\n",
              "      <td>339.31</td>\n",
              "      <td>C</td>\n",
              "      <td>C1</td>\n",
              "      <td>10</td>\n",
              "      <td>49200.0</td>\n",
              "      <td>...</td>\n",
              "      <td>37.0</td>\n",
              "      <td>0.0</td>\n",
              "      <td>0</td>\n",
              "      <td>0</td>\n",
              "      <td>0</td>\n",
              "      <td>0</td>\n",
              "      <td>1</td>\n",
              "      <td>0</td>\n",
              "      <td>1</td>\n",
              "      <td>0</td>\n",
              "    </tr>\n",
              "    <tr>\n",
              "      <th>4</th>\n",
              "      <td>3000</td>\n",
              "      <td>3000</td>\n",
              "      <td>3000.0</td>\n",
              "      <td>0</td>\n",
              "      <td>12.69</td>\n",
              "      <td>67.79</td>\n",
              "      <td>B</td>\n",
              "      <td>B5</td>\n",
              "      <td>1</td>\n",
              "      <td>80000.0</td>\n",
              "      <td>...</td>\n",
              "      <td>38.0</td>\n",
              "      <td>0.0</td>\n",
              "      <td>0</td>\n",
              "      <td>0</td>\n",
              "      <td>0</td>\n",
              "      <td>0</td>\n",
              "      <td>1</td>\n",
              "      <td>0</td>\n",
              "      <td>1</td>\n",
              "      <td>0</td>\n",
              "    </tr>\n",
              "  </tbody>\n",
              "</table>\n",
              "<p>5 rows × 22 columns</p>\n",
              "</div>"
            ],
            "text/plain": [
              "   loan_amnt  funded_amnt  funded_amnt_inv  term  int_rate  installment grade  \\\n",
              "0       5000         5000           4975.0     1     10.65       162.87     B   \n",
              "1       2500         2500           2500.0     0     15.27        59.83     C   \n",
              "2       2400         2400           2400.0     1     15.96        84.33     C   \n",
              "3      10000        10000          10000.0     1     13.49       339.31     C   \n",
              "4       3000         3000           3000.0     0     12.69        67.79     B   \n",
              "\n",
              "  sub_grade emp_length  annual_inc  ... total_acc chargeoff_within_12_mths  \\\n",
              "0        B2         10     24000.0  ...       9.0                      0.0   \n",
              "1        C4          0     30000.0  ...       4.0                      0.0   \n",
              "2        C5         10     12252.0  ...      10.0                      0.0   \n",
              "3        C1         10     49200.0  ...      37.0                      0.0   \n",
              "4        B5          1     80000.0  ...      38.0                      0.0   \n",
              "\n",
              "   home_ownership_MORTGAGE  home_ownership_NONE  home_ownership_OTHER  \\\n",
              "0                        0                    0                     0   \n",
              "1                        0                    0                     0   \n",
              "2                        0                    0                     0   \n",
              "3                        0                    0                     0   \n",
              "4                        0                    0                     0   \n",
              "\n",
              "   home_ownership_OWN  home_ownership_RENT  verification_status_Not Verified  \\\n",
              "0                   0                    1                                 0   \n",
              "1                   0                    1                                 0   \n",
              "2                   0                    1                                 1   \n",
              "3                   0                    1                                 0   \n",
              "4                   0                    1                                 0   \n",
              "\n",
              "   verification_status_Source Verified  verification_status_Verified  \n",
              "0                                    0                             1  \n",
              "1                                    1                             0  \n",
              "2                                    0                             0  \n",
              "3                                    1                             0  \n",
              "4                                    1                             0  \n",
              "\n",
              "[5 rows x 22 columns]"
            ]
          },
          "metadata": {
            "tags": []
          },
          "execution_count": 41
        }
      ]
    },
    {
      "cell_type": "code",
      "metadata": {
        "id": "7bSx5hDBtUnI",
        "colab_type": "code",
        "colab": {
          "base_uri": "https://localhost:8080/",
          "height": 109
        },
        "outputId": "a3d9fb4c-abad-47cb-ca6d-23946ed45942"
      },
      "source": [
        "loan['loan_status'].value_counts()"
      ],
      "execution_count": 42,
      "outputs": [
        {
          "output_type": "execute_result",
          "data": {
            "text/plain": [
              "Fully Paid                                             34116\n",
              "Charged Off                                             5670\n",
              "Does not meet the credit policy. Status:Fully Paid      1988\n",
              "Does not meet the credit policy. Status:Charged Off      761\n",
              "Name: loan_status, dtype: int64"
            ]
          },
          "metadata": {
            "tags": []
          },
          "execution_count": 42
        }
      ]
    },
    {
      "cell_type": "code",
      "metadata": {
        "id": "I1_DlE6Ax62Z",
        "colab_type": "code",
        "colab": {
          "base_uri": "https://localhost:8080/",
          "height": 72
        },
        "outputId": "93af697f-dc29-4ebb-f57a-daae8051f705"
      },
      "source": [
        "status_replace = {\n",
        "    \"loan_status\" : {\n",
        "        \"Fully Paid\": 1,\n",
        "        \"Charged Off\": 0,\n",
        "        \"Does not meet the credit policy. Status:Fully Paid\": 1,\n",
        "        \"Does not meet the credit policy. Status:Charged Off\": 0,\n",
        "    }\n",
        "}\n",
        "loan = loan.replace(status_replace)\n",
        "loan['loan_status'].value_counts()"
      ],
      "execution_count": 43,
      "outputs": [
        {
          "output_type": "execute_result",
          "data": {
            "text/plain": [
              "1    36104\n",
              "0     6431\n",
              "Name: loan_status, dtype: int64"
            ]
          },
          "metadata": {
            "tags": []
          },
          "execution_count": 43
        }
      ]
    },
    {
      "cell_type": "code",
      "metadata": {
        "id": "lfA2QjiXt94D",
        "colab_type": "code",
        "colab": {}
      },
      "source": [
        ""
      ],
      "execution_count": 0,
      "outputs": []
    }
  ]
}